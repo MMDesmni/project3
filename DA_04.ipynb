{
  "nbformat": 4,
  "nbformat_minor": 0,
  "metadata": {
    "colab": {
      "provenance": [],
      "gpuType": "T4",
      "include_colab_link": true
    },
    "kernelspec": {
      "name": "python3",
      "display_name": "Python 3"
    },
    "language_info": {
      "name": "python"
    },
    "accelerator": "GPU"
  },
  "cells": [
    {
      "cell_type": "markdown",
      "metadata": {
        "id": "view-in-github",
        "colab_type": "text"
      },
      "source": [
        "<a href=\"https://colab.research.google.com/github/MMDesmni/project3/blob/main/DA_04.ipynb\" target=\"_parent\"><img src=\"https://colab.research.google.com/assets/colab-badge.svg\" alt=\"Open In Colab\"/></a>"
      ]
    },
    {
      "cell_type": "markdown",
      "source": [
        "# Install & Load Libraries"
      ],
      "metadata": {
        "id": "4mEhKl7Jin_C"
      }
    },
    {
      "cell_type": "code",
      "source": [
        "!git clone https://github.com/rapidsai/rapidsai-csp-utils.git\n",
        "!python rapidsai-csp-utils/colab/pip-install.py"
      ],
      "metadata": {
        "id": "masAcXQ-dy2o"
      },
      "execution_count": null,
      "outputs": []
    },
    {
      "cell_type": "code",
      "execution_count": null,
      "metadata": {
        "id": "LSZCSAJYYM8j"
      },
      "outputs": [],
      "source": [
        "! pip install kaggle --quiet"
      ]
    },
    {
      "cell_type": "code",
      "source": [
        "from google.colab import drive\n",
        "drive.mount('/gdrive')"
      ],
      "metadata": {
        "id": "NJB0bVS7cJDI",
        "collapsed": true
      },
      "execution_count": null,
      "outputs": []
    },
    {
      "cell_type": "code",
      "source": [
        "!nvidia-smi"
      ],
      "metadata": {
        "colab": {
          "base_uri": "https://localhost:8080/"
        },
        "id": "2iXY10z4JOaf",
        "outputId": "8f6124c4-453b-46fd-94dd-65c34467dd77"
      },
      "execution_count": null,
      "outputs": [
        {
          "output_type": "stream",
          "name": "stdout",
          "text": [
            "Thu Aug 14 15:14:51 2025       \n",
            "+-----------------------------------------------------------------------------------------+\n",
            "| NVIDIA-SMI 550.54.15              Driver Version: 550.54.15      CUDA Version: 12.4     |\n",
            "|-----------------------------------------+------------------------+----------------------+\n",
            "| GPU  Name                 Persistence-M | Bus-Id          Disp.A | Volatile Uncorr. ECC |\n",
            "| Fan  Temp   Perf          Pwr:Usage/Cap |           Memory-Usage | GPU-Util  Compute M. |\n",
            "|                                         |                        |               MIG M. |\n",
            "|=========================================+========================+======================|\n",
            "|   0  Tesla T4                       Off |   00000000:00:04.0 Off |                    0 |\n",
            "| N/A   54C    P8             11W /   70W |       0MiB /  15360MiB |      0%      Default |\n",
            "|                                         |                        |                  N/A |\n",
            "+-----------------------------------------+------------------------+----------------------+\n",
            "                                                                                         \n",
            "+-----------------------------------------------------------------------------------------+\n",
            "| Processes:                                                                              |\n",
            "|  GPU   GI   CI        PID   Type   Process name                              GPU Memory |\n",
            "|        ID   ID                                                               Usage      |\n",
            "|=========================================================================================|\n",
            "|  No running processes found                                                             |\n",
            "+-----------------------------------------------------------------------------------------+\n"
          ]
        }
      ]
    },
    {
      "cell_type": "code",
      "source": [
        "!wget -qO- https://raw.githubusercontent.com/rapidsai/rapidsai-csp-utils/main/colab/install_rapids.py | python -\n"
      ],
      "metadata": {
        "id": "Hy4TzaHHJkkn"
      },
      "execution_count": null,
      "outputs": []
    },
    {
      "cell_type": "code",
      "source": [
        "import cudf\n",
        "import cuml\n",
        "\n",
        "print(\"cudf version:\", cudf.__version__)\n",
        "print(\"cuml version:\", cuml.__version__)\n"
      ],
      "metadata": {
        "id": "dzGDBVcJJyvK"
      },
      "execution_count": null,
      "outputs": []
    },
    {
      "cell_type": "code",
      "source": [
        "import cudf\n",
        "import cuml\n",
        "import numpy as np\n",
        "import matplotlib.pyplot as plt\n",
        "import seaborn as sns\n",
        "import plotly.express as px"
      ],
      "metadata": {
        "id": "lzxatZA5jWoZ"
      },
      "execution_count": null,
      "outputs": []
    },
    {
      "cell_type": "markdown",
      "source": [
        "# Kaggle Authentication"
      ],
      "metadata": {
        "id": "PJsuqpBNi05h"
      }
    },
    {
      "cell_type": "code",
      "source": [
        "from google.colab import files\n",
        "files.upload()"
      ],
      "metadata": {
        "id": "kDpGrEtMKPhq"
      },
      "execution_count": null,
      "outputs": []
    },
    {
      "cell_type": "code",
      "source": [
        "!mkdir -p ~/.kaggle\n",
        "!cp kaggle.json ~/.kaggle/\n",
        "!chmod 600 ~/.kaggle/kaggle.json"
      ],
      "metadata": {
        "id": "Q6yw9qgFbnOI"
      },
      "execution_count": null,
      "outputs": []
    },
    {
      "cell_type": "markdown",
      "source": [
        "# Data Extraction"
      ],
      "metadata": {
        "id": "7b0gFZARi6Mx"
      }
    },
    {
      "cell_type": "code",
      "source": [
        "!kaggle datasets download -d sobhanmoosavi/us-accidents"
      ],
      "metadata": {
        "colab": {
          "base_uri": "https://localhost:8080/"
        },
        "id": "8cr4MX3JbXB_",
        "outputId": "8f2c281f-4698-42ef-a27d-75e6a657bda1"
      },
      "execution_count": null,
      "outputs": [
        {
          "output_type": "stream",
          "name": "stdout",
          "text": [
            "Dataset URL: https://www.kaggle.com/datasets/sobhanmoosavi/us-accidents\n",
            "License(s): CC-BY-NC-SA-4.0\n",
            "Downloading us-accidents.zip to /content\n",
            " 99% 647M/653M [00:08<00:00, 124MB/s]\n",
            "100% 653M/653M [00:08<00:00, 82.8MB/s]\n"
          ]
        }
      ]
    },
    {
      "cell_type": "code",
      "source": [
        "!unzip us-accidents.zip"
      ],
      "metadata": {
        "colab": {
          "base_uri": "https://localhost:8080/"
        },
        "id": "DdOo7X3ib3U3",
        "outputId": "e85d73f8-2525-41ac-a3cb-60b5af98dd5d"
      },
      "execution_count": null,
      "outputs": [
        {
          "output_type": "stream",
          "name": "stdout",
          "text": [
            "Archive:  us-accidents.zip\n",
            "  inflating: US_Accidents_March23.csv  \n"
          ]
        }
      ]
    },
    {
      "cell_type": "markdown",
      "source": [],
      "metadata": {
        "id": "iAi71bBfeEdj"
      }
    },
    {
      "cell_type": "code",
      "source": [
        "import cudf\n",
        "\n",
        "df = cudf.read_csv(\"/content/US_Accidents_March23.csv\")\n",
        "\n",
        "df.info()"
      ],
      "metadata": {
        "colab": {
          "base_uri": "https://localhost:8080/"
        },
        "id": "VxJUMolqcieY",
        "outputId": "8a7856c5-4301-4fb9-c52b-3df69d9fe8de"
      },
      "execution_count": null,
      "outputs": [
        {
          "output_type": "stream",
          "name": "stdout",
          "text": [
            "<class 'cudf.core.dataframe.DataFrame'>\n",
            "RangeIndex: 7728394 entries, 0 to 7728393\n",
            "Data columns (total 46 columns):\n",
            " #   Column                 Dtype\n",
            "---  ------                 -----\n",
            " 0   ID                     object\n",
            " 1   Source                 object\n",
            " 2   Severity               int64\n",
            " 3   Start_Time             object\n",
            " 4   End_Time               object\n",
            " 5   Start_Lat              float64\n",
            " 6   Start_Lng              float64\n",
            " 7   End_Lat                float64\n",
            " 8   End_Lng                float64\n",
            " 9   Distance(mi)           float64\n",
            " 10  Description            object\n",
            " 11  Street                 object\n",
            " 12  City                   object\n",
            " 13  County                 object\n",
            " 14  State                  object\n",
            " 15  Zipcode                object\n",
            " 16  Country                object\n",
            " 17  Timezone               object\n",
            " 18  Airport_Code           object\n",
            " 19  Weather_Timestamp      object\n",
            " 20  Temperature(F)         float64\n",
            " 21  Wind_Chill(F)          float64\n",
            " 22  Humidity(%)            float64\n",
            " 23  Pressure(in)           float64\n",
            " 24  Visibility(mi)         float64\n",
            " 25  Wind_Direction         object\n",
            " 26  Wind_Speed(mph)        float64\n",
            " 27  Precipitation(in)      float64\n",
            " 28  Weather_Condition      object\n",
            " 29  Amenity                bool\n",
            " 30  Bump                   bool\n",
            " 31  Crossing               bool\n",
            " 32  Give_Way               bool\n",
            " 33  Junction               bool\n",
            " 34  No_Exit                bool\n",
            " 35  Railway                bool\n",
            " 36  Roundabout             bool\n",
            " 37  Station                bool\n",
            " 38  Stop                   bool\n",
            " 39  Traffic_Calming        bool\n",
            " 40  Traffic_Signal         bool\n",
            " 41  Turning_Loop           bool\n",
            " 42  Sunrise_Sunset         object\n",
            " 43  Civil_Twilight         object\n",
            " 44  Nautical_Twilight      object\n",
            " 45  Astronomical_Twilight  object\n",
            "dtypes: bool(13), float64(12), int64(1), object(20)\n",
            "memory usage: 3.0+ GB\n"
          ]
        }
      ]
    },
    {
      "cell_type": "code",
      "source": [
        "import dask.dataframe as dd\n",
        "\n",
        "df = dd.read_csv(\"/content/US_Accidents_March23.csv\")\n",
        "\n",
        "# df.info()\n",
        "df.isna().sum().compute()\n"
      ],
      "metadata": {
        "id": "dEHCebxIfPLH"
      },
      "execution_count": null,
      "outputs": []
    },
    {
      "cell_type": "code",
      "source": [
        "np.unique(df[\"Source\"])"
      ],
      "metadata": {
        "colab": {
          "base_uri": "https://localhost:8080/"
        },
        "id": "FZc3u6fVK10G",
        "outputId": "20e4de5d-f849-445d-98a7-11d745ba15ba"
      },
      "execution_count": null,
      "outputs": [
        {
          "output_type": "execute_result",
          "data": {
            "text/plain": [
              "2    Source1\n",
              "0    Source2\n",
              "1    Source3\n",
              "Name: Source, dtype: object"
            ]
          },
          "metadata": {},
          "execution_count": 12
        }
      ]
    },
    {
      "cell_type": "code",
      "source": [
        "np.unique(df[\"Astronomical_Twilight\"])"
      ],
      "metadata": {
        "colab": {
          "base_uri": "https://localhost:8080/"
        },
        "id": "PoKe7l3llZkL",
        "outputId": "45a1fd90-47cc-4777-c4c7-2f787bc6cdea"
      },
      "execution_count": null,
      "outputs": [
        {
          "output_type": "execute_result",
          "data": {
            "text/plain": [
              "1      Day\n",
              "0    Night\n",
              "2     <NA>\n",
              "Name: Astronomical_Twilight, dtype: object"
            ]
          },
          "metadata": {},
          "execution_count": 10
        }
      ]
    },
    {
      "cell_type": "markdown",
      "source": [
        "# Sampling"
      ],
      "metadata": {
        "id": "kTEq5Y_Qi_0Y"
      }
    },
    {
      "cell_type": "code",
      "source": [
        "# random sampling\n",
        "import numpy as np\n",
        "random_indexes = np.random.randint(0, len(df), size=5000)\n",
        "df.iloc[random_indexes ].to_csv(\"accicent_sample.csv\", index=False)"
      ],
      "metadata": {
        "id": "Y5Y_m9lPf2w9"
      },
      "execution_count": null,
      "outputs": []
    },
    {
      "cell_type": "code",
      "source": [
        "import cuml  # scikit-learn"
      ],
      "metadata": {
        "id": "qCmovQLihNzN"
      },
      "execution_count": null,
      "outputs": []
    },
    {
      "cell_type": "markdown",
      "source": [
        "# Data Cleaning"
      ],
      "metadata": {
        "id": "-uVpzXp7jC5w"
      }
    },
    {
      "cell_type": "markdown",
      "source": [
        "#We get the dataset info to check how much we got from the volume of the data base and which columns we still have with which type"
      ],
      "metadata": {
        "id": "ttQvn6bm9_iW"
      }
    },
    {
      "cell_type": "code",
      "source": [
        "df.info()"
      ],
      "metadata": {
        "colab": {
          "base_uri": "https://localhost:8080/"
        },
        "id": "_mAlRajATyDl",
        "outputId": "e166df2b-ff1a-4fd3-9ee6-aa24febf8edf"
      },
      "execution_count": null,
      "outputs": [
        {
          "output_type": "stream",
          "name": "stdout",
          "text": [
            "<class 'cudf.core.dataframe.DataFrame'>\n",
            "RangeIndex: 7728394 entries, 0 to 7728393\n",
            "Data columns (total 25 columns):\n",
            " #   Column             Dtype\n",
            "---  ------             -----\n",
            " 0   Severity           uint8\n",
            " 1   Start_Lat          float32\n",
            " 2   Start_Lng          float32\n",
            " 3   End_Lat            float32\n",
            " 4   End_Lng            float32\n",
            " 5   Timezone           object\n",
            " 6   Temperature(F)     float32\n",
            " 7   Humidity(%)        uint8\n",
            " 8   Visibility(mi)     float32\n",
            " 9   Wind_Direction     object\n",
            " 10  Wind_Speed(mph)    float64\n",
            " 11  Precipitation(in)  float32\n",
            " 12  Amenity            uint8\n",
            " 13  Bump               uint8\n",
            " 14  Crossing           uint8\n",
            " 15  Give_Way           uint8\n",
            " 16  Junction           uint8\n",
            " 17  No_Exit            uint8\n",
            " 18  Railway            uint8\n",
            " 19  Roundabout         uint8\n",
            " 20  Station            uint8\n",
            " 21  Stop               uint8\n",
            " 22  Traffic_Calming    uint8\n",
            " 23  Traffic_Signal     uint8\n",
            " 24  Timezone_mapped    uint8\n",
            "dtypes: float32(7), float64(1), object(2), uint8(15)\n",
            "memory usage: 537.6+ MB\n"
          ]
        }
      ]
    },
    {
      "cell_type": "markdown",
      "source": [
        "##We use the min() and max() to find the range of our numbers to export them into smaller types to have less volume taken of our memory"
      ],
      "metadata": {
        "id": "52cLKzF--N83"
      }
    },
    {
      "cell_type": "code",
      "source": [
        "#print(df[\"Precipitation(in)\"].max())\n",
        "#print(df[\"Precipitation(in)\"].min())\n",
        "df['Precipitation(in)'] = df['Precipitation(in)'].astype('float32')"
      ],
      "metadata": {
        "id": "Fdcq5bv1ten4"
      },
      "execution_count": null,
      "outputs": []
    },
    {
      "cell_type": "code",
      "source": [
        "#print(df[\"Wind_Speed(mph)\"].max())\n",
        "#print(df[\"Wind_Speed(mph)\"].min())"
      ],
      "metadata": {
        "id": "dFM98FQJtFHq"
      },
      "execution_count": null,
      "outputs": []
    },
    {
      "cell_type": "code",
      "source": [
        "#print(df[\"Visibility(mi)\"].min())\n",
        "#print(df[\"Visibility(mi)\"].max())\n",
        "df['Visibility(mi)'] = df['Visibility(mi)'].astype('float32')"
      ],
      "metadata": {
        "id": "BGKJ_1lBsgz_"
      },
      "execution_count": null,
      "outputs": []
    },
    {
      "cell_type": "code",
      "source": [
        "#print(df[\"Humidity(%)\"].min())\n",
        "#print(df[\"Humidity(%)\"].max())\n",
        "df['Humidity(%)'] = df['Humidity(%)'].astype('uint8')"
      ],
      "metadata": {
        "id": "Y2cdI3mlsKTq"
      },
      "execution_count": null,
      "outputs": []
    },
    {
      "cell_type": "code",
      "source": [
        "#print(df[\"Temperature(F)\"].min())\n",
        "#print(df[\"Temperature(F)\"].max())\n",
        "df['Temperature(F)'] = df['Temperature(F)'].astype('float32')"
      ],
      "metadata": {
        "id": "f-G26Cnzr3tW"
      },
      "execution_count": null,
      "outputs": []
    },
    {
      "cell_type": "code",
      "source": [
        "#print(df[\"End_Lng\"].max())\n",
        "#print(df[\"End_Lng\"].min())\n",
        "df['End_Lng'] = df['End_Lng'].astype('float32')"
      ],
      "metadata": {
        "id": "UQ3PQkZoqGnI"
      },
      "execution_count": null,
      "outputs": []
    },
    {
      "cell_type": "code",
      "source": [
        "#print(df[\"End_Lat\"].max())\n",
        "#print(df[\"End_Lat\"].min())\n",
        "df['End_Lat'] = df['End_Lat'].astype('float32')"
      ],
      "metadata": {
        "id": "QfmEK3LGpz_6"
      },
      "execution_count": null,
      "outputs": []
    },
    {
      "cell_type": "code",
      "source": [
        "#print(df[\"Start_Lng\"].max())\n",
        "#print(df[\"Start_Lng\"].min())\n",
        "df['Start_Lng'] = df['Start_Lng'].astype('float32')"
      ],
      "metadata": {
        "id": "1K-K5Y6dpV7G"
      },
      "execution_count": null,
      "outputs": []
    },
    {
      "cell_type": "code",
      "source": [
        "#print(df[\"Start_Lat\"].max())\n",
        "#print(df[\"Start_Lat\"].min())\n",
        "df['Start_Lat'] = df['Start_Lat'].astype('float32')"
      ],
      "metadata": {
        "id": "S-F1T3yqojoT"
      },
      "execution_count": null,
      "outputs": []
    },
    {
      "cell_type": "markdown",
      "source": [
        "###For this part we use the map method to map them into numbers so we just work with numbers"
      ],
      "metadata": {
        "id": "a0J1xsEy-cxy"
      }
    },
    {
      "cell_type": "code",
      "source": [
        "df['Timezone_mapped'] = df['Timezone'].map({\n",
        "    'US/Eastern': 0,\n",
        "    'US/Central': 1,\n",
        "    'US/Mountain': 2,\n",
        "    'US/Pacific': 3\n",
        "}).fillna(4).astype('uint8')"
      ],
      "metadata": {
        "id": "B_RtH_IzqpZj"
      },
      "execution_count": null,
      "outputs": []
    },
    {
      "cell_type": "code",
      "source": [
        "df['Sunrise_Sunset'] = df['Sunrise_Sunset'].map({'day': 0, 'night': 1}).fillna(2).astype('uint8')"
      ],
      "metadata": {
        "id": "x3g3ZA7CYoS3"
      },
      "execution_count": null,
      "outputs": []
    },
    {
      "cell_type": "markdown",
      "source": [
        "###This part is the colunms that we know that they are bollean and we could easily turn them into 0 and 1\n"
      ],
      "metadata": {
        "id": "Xxxoc533-yB2"
      }
    },
    {
      "cell_type": "code",
      "source": [
        "df[\"Traffic_Calming\"] = df[\"Traffic_Calming\"].astype(\"uint8\")"
      ],
      "metadata": {
        "id": "z5lTlKVTYI8y"
      },
      "execution_count": null,
      "outputs": []
    },
    {
      "cell_type": "code",
      "source": [
        "df[\"Stop\"] = df[\"Stop\"].astype(\"uint8\")"
      ],
      "metadata": {
        "id": "jEqeLYvDX9x_"
      },
      "execution_count": null,
      "outputs": []
    },
    {
      "cell_type": "code",
      "source": [
        "df[\"Station\"] = df[\"Station\"].astype(\"uint8\")"
      ],
      "metadata": {
        "id": "FuOC_eShX006"
      },
      "execution_count": null,
      "outputs": []
    },
    {
      "cell_type": "code",
      "source": [
        "df[\"Roundabout\"] = df[\"Roundabout\"].astype(\"uint8\")"
      ],
      "metadata": {
        "id": "rJBL44raXpG3"
      },
      "execution_count": null,
      "outputs": []
    },
    {
      "cell_type": "code",
      "source": [
        "df[\"No_Exit\"] = df[\"No_Exit\"].astype(\"uint8\")"
      ],
      "metadata": {
        "id": "c1ql6li8XefO"
      },
      "execution_count": null,
      "outputs": []
    },
    {
      "cell_type": "code",
      "source": [
        "df[\"Junction\"] = df[\"Junction\"].astype(\"uint8\")"
      ],
      "metadata": {
        "id": "ZXJQ4qSaXNdD"
      },
      "execution_count": null,
      "outputs": []
    },
    {
      "cell_type": "code",
      "source": [
        "df[\"Give_Way\"] = df[\"Give_Way\"].astype(\"uint8\")"
      ],
      "metadata": {
        "id": "leLSk5jQVcEx"
      },
      "execution_count": null,
      "outputs": []
    },
    {
      "cell_type": "code",
      "source": [
        "df[\"Amenity\"] = df[\"Amenity\"].astype(\"uint8\")"
      ],
      "metadata": {
        "id": "_yH2CeaCVWt-"
      },
      "execution_count": null,
      "outputs": []
    },
    {
      "cell_type": "code",
      "source": [
        "df[\"Severity\"] = df[\"Severity\"].astype(\"uint8\")"
      ],
      "metadata": {
        "id": "MRUNsVw8U-OW"
      },
      "execution_count": null,
      "outputs": []
    },
    {
      "cell_type": "code",
      "source": [
        "df[\"Railway\"] = df[\"Railway\"].astype(\"uint8\")"
      ],
      "metadata": {
        "id": "l_9y2gdZSYga"
      },
      "execution_count": null,
      "outputs": []
    },
    {
      "cell_type": "code",
      "source": [
        "df[\"Traffic_Signal\"] = df[\"Traffic_Signal\"].astype('uint8')"
      ],
      "metadata": {
        "id": "RFV1btfhRkAW"
      },
      "execution_count": null,
      "outputs": []
    },
    {
      "cell_type": "code",
      "source": [
        "df[\"Crossing\"] = df[\"Crossing\"].astype('uint8')"
      ],
      "metadata": {
        "id": "JvxTnEL6RAHi"
      },
      "execution_count": null,
      "outputs": []
    },
    {
      "cell_type": "code",
      "source": [
        "df['Bump'] = df['Bump'].astype('uint8')"
      ],
      "metadata": {
        "id": "GXtp0OOxQ4ty"
      },
      "execution_count": null,
      "outputs": []
    },
    {
      "cell_type": "markdown",
      "source": [
        "###This part is the deleted columns and useless information that we do not need\n"
      ],
      "metadata": {
        "id": "eEQuHuLh-_D_"
      }
    },
    {
      "cell_type": "code",
      "source": [
        "df.drop(columns=[\"Weather_Condition\"],inplace=True)"
      ],
      "metadata": {
        "id": "nFCKavCauGti"
      },
      "execution_count": null,
      "outputs": []
    },
    {
      "cell_type": "code",
      "source": [
        "df.drop(columns=[\"Weather_Timestamp\"],inplace=True)"
      ],
      "metadata": {
        "id": "Lqor_jWbrxHX"
      },
      "execution_count": null,
      "outputs": []
    },
    {
      "cell_type": "code",
      "source": [
        "df.drop(columns=[\"Street\"],inplace=True)"
      ],
      "metadata": {
        "id": "jw-lHbkRqfEX"
      },
      "execution_count": null,
      "outputs": []
    },
    {
      "cell_type": "code",
      "source": [
        "df.drop(columns=[\"Astronomical_Twilight\"],inplace=True)"
      ],
      "metadata": {
        "id": "iEhNGyfloXRu"
      },
      "execution_count": null,
      "outputs": []
    },
    {
      "cell_type": "code",
      "source": [
        "df.drop(columns=[\"Nautical_Twilight\"],inplace=True)"
      ],
      "metadata": {
        "id": "xO0HPlV4oK3G"
      },
      "execution_count": null,
      "outputs": []
    },
    {
      "cell_type": "code",
      "source": [
        "df.drop(columns=[\"Civil_Twilight\"],inplace=True)"
      ],
      "metadata": {
        "id": "-NoDD9BEn8MC"
      },
      "execution_count": null,
      "outputs": []
    },
    {
      "cell_type": "code",
      "source": [
        "df.drop(columns=[\"Turning_Loop\"],inplace=True)"
      ],
      "metadata": {
        "id": "s-3mm5N9Yb5a"
      },
      "execution_count": null,
      "outputs": []
    },
    {
      "cell_type": "code",
      "source": [
        "df.drop(columns=[\"Distance(mi)\"],inplace=True)"
      ],
      "metadata": {
        "id": "epycsRcfTMAp"
      },
      "execution_count": null,
      "outputs": []
    },
    {
      "cell_type": "code",
      "source": [
        "df.drop(columns=[\"End_Time\"],inplace=True)"
      ],
      "metadata": {
        "id": "ZCR5adpYTFZZ"
      },
      "execution_count": null,
      "outputs": []
    },
    {
      "cell_type": "code",
      "source": [
        "df.drop(columns=[\"Start_Time\"],inplace=True)"
      ],
      "metadata": {
        "id": "vUNLNRpbSrle"
      },
      "execution_count": null,
      "outputs": []
    },
    {
      "cell_type": "code",
      "source": [
        "df.drop(columns=[\"City\"],inplace=True)"
      ],
      "metadata": {
        "id": "PALQ1Mi-PYO-"
      },
      "execution_count": null,
      "outputs": []
    },
    {
      "cell_type": "code",
      "source": [
        "df.drop(columns=[\"County\"],inplace=True)"
      ],
      "metadata": {
        "id": "AlJHDF44PP5G"
      },
      "execution_count": null,
      "outputs": []
    },
    {
      "cell_type": "code",
      "source": [
        "df.drop(columns=[\"Wind_Chill(F)\"],inplace=True)"
      ],
      "metadata": {
        "id": "W1UDrqPmOz5f"
      },
      "execution_count": null,
      "outputs": []
    },
    {
      "cell_type": "code",
      "source": [
        "df.drop(columns=[\"State\"], inplace=True)"
      ],
      "metadata": {
        "id": "acq4n0BmOnWm"
      },
      "execution_count": null,
      "outputs": []
    },
    {
      "cell_type": "code",
      "source": [
        "df.drop(columns=[\"Airport_Code\"], inplace=True)"
      ],
      "metadata": {
        "id": "bUp_-U2lOLmS"
      },
      "execution_count": null,
      "outputs": []
    },
    {
      "cell_type": "code",
      "source": [
        "df.drop(columns=[\"Description\"], inplace=True)"
      ],
      "metadata": {
        "id": "YClo3BGRN_TC"
      },
      "execution_count": null,
      "outputs": []
    },
    {
      "cell_type": "code",
      "source": [
        "df.drop(columns=[\"Pressure(in)\"], inplace=True)"
      ],
      "metadata": {
        "id": "nOT9_dxSM0er"
      },
      "execution_count": null,
      "outputs": []
    },
    {
      "cell_type": "code",
      "source": [
        "df.drop(columns=[\"Zipcode\"], inplace=True)"
      ],
      "metadata": {
        "id": "jt0tM1k2MiOz"
      },
      "execution_count": null,
      "outputs": []
    },
    {
      "cell_type": "code",
      "source": [
        "df.drop(columns=[\"Country\"], inplace=True)"
      ],
      "metadata": {
        "id": "11xwPTYeML1m"
      },
      "execution_count": null,
      "outputs": []
    },
    {
      "cell_type": "code",
      "source": [
        "df.drop(columns=[\"ID\"], inplace=True)"
      ],
      "metadata": {
        "id": "zl16ruxSh55t"
      },
      "execution_count": null,
      "outputs": []
    },
    {
      "cell_type": "code",
      "source": [
        "#for col in [\"Severity\", \"Bump\", \"Crossing\", \"Give_Way\"]:\n",
        "  #df[col] = df[col].astype(np.uint8)"
      ],
      "metadata": {
        "id": "ywdwMfjijleZ"
      },
      "execution_count": null,
      "outputs": []
    },
    {
      "cell_type": "markdown",
      "source": [
        "# Plotting\n"
      ],
      "metadata": {
        "id": "Fbk_LNZE_-y3"
      }
    },
    {
      "cell_type": "markdown",
      "source": [
        "#This is one simple plot for instance so we know how we should plot using cumpy and seaborn and not using numpy\n"
      ],
      "metadata": {
        "id": "lCz3kZw9_UWM"
      }
    },
    {
      "cell_type": "code",
      "source": [
        "#Import libraries we need\n",
        "\n",
        "import cudf\n",
        "import cupy as cp\n",
        "import matplotlib.pyplot as plt\n",
        "import seaborn as sns\n",
        "\n",
        "#Plotting and creating dataframe\n",
        "\n",
        "sns.set(style=\"whitegrid\")\n",
        "plt.rcParams['figure.figsize'] = (10, 6)\n",
        "gdf = cudf.read_csv('/content/US_Accidents_March23.csv')\n",
        "\n",
        "#Counting the numbers for our plotting\n",
        "\n",
        "severity_counts = gdf['Severity'].value_counts().sort_index()\n",
        "\n",
        "#Initiationg the variables\n",
        "\n",
        "x = severity_counts.index.values.get()\n",
        "y = severity_counts.values.get()\n",
        "\n",
        "\n",
        "#Final plotting\n",
        "\n",
        "plt.figure()\n",
        "sns.barplot(x=x, y=y, palette=\"viridis\")\n",
        "plt.title('Number of Accidents by Severity')\n",
        "plt.xlabel('Severity')\n",
        "plt.ylabel('Number of Accidents')\n",
        "plt.show()\n"
      ],
      "metadata": {
        "colab": {
          "base_uri": "https://localhost:8080/",
          "height": 660
        },
        "id": "zAErXtak8AIP",
        "outputId": "00501970-b255-4510-e423-71dd1b52e8ce"
      },
      "execution_count": null,
      "outputs": [
        {
          "output_type": "stream",
          "name": "stderr",
          "text": [
            "/tmp/ipython-input-3585985285.py:23: FutureWarning: \n",
            "\n",
            "Passing `palette` without assigning `hue` is deprecated and will be removed in v0.14.0. Assign the `x` variable to `hue` and set `legend=False` for the same effect.\n",
            "\n",
            "  sns.barplot(x=x, y=y, palette=\"viridis\")\n"
          ]
        },
        {
          "output_type": "display_data",
          "data": {
            "text/plain": [
              "<Figure size 1000x600 with 1 Axes>"
            ],
            "image/png": "[encoded data removed]"
          },
          "metadata": {}
        }
      ]
    },
    {
      "cell_type": "markdown",
      "source": [
        "# Finding Outliers\n"
      ],
      "metadata": {
        "id": "FKfzK7Sl_44z"
      }
    },
    {
      "cell_type": "code",
      "source": [
        "#Importing Libraries we need\n",
        "\n",
        "import cudf\n",
        "\n",
        "#Creating dataframe\n",
        "\n",
        "gdf = cudf.read_csv('/content/US_Accidents_March23.csv')\n",
        "\n",
        "#The things we are getting our datas based on wether there are outlier or not is based on the atributes that are in the \"cols\" list\n",
        "\n",
        "cols = ['Start_Lat', 'End_Lat']\n",
        "outliers = cudf.DataFrame()\n",
        "\n",
        "#Simple for loop for finding all the outliers\n",
        "\n",
        "for col in cols:\n",
        "    Q1 = gdf[col].quantile(0.25)\n",
        "    Q3 = gdf[col].quantile(0.75)\n",
        "    IQR = Q3 - Q1\n",
        "\n",
        "    lower_bound = Q1 - 1.5 * IQR\n",
        "    upper_bound = Q3 + 1.5 * IQR\n",
        "    outlier_rows = gdf[(gdf[col] < lower_bound) | (gdf[col] > upper_bound)]\n",
        "\n",
        "    #This method adds the outlierss into the dataframe\n",
        "\n",
        "    outliers = cudf.concat([outliers, outlier_rows])\n",
        "\n",
        "#This line is in case some outliers have been counted twice\n",
        "\n",
        "outliers = outliers.drop_duplicates()\n",
        "\n",
        "#Showing some examples of outliers to see\n",
        "\n",
        "print(f\"Total unique outlier rows based on Start_Lat and End_Lat: {len(outliers)}\")\n",
        "print(outliers.head())\n",
        "\n",
        "\n",
        "\n",
        "\n",
        "\n",
        "\n",
        "''' This code does not have any terminal or anything to show because the plotting itself took 10.7 of 12 GB of RAM storage so we do not have any space left to calculate\n",
        "and terminate this code but you could easily get the top 50 of this dataframe and test them with this coe and see it work perfectly :)'''"
      ],
      "metadata": {
        "id": "zSyXThYA_2Vv"
      },
      "execution_count": null,
      "outputs": []
    }
  ]
}